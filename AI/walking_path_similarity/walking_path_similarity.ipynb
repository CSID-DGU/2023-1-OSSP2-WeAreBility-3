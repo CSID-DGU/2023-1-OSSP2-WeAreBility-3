{
 "cells": [
  {
   "cell_type": "code",
   "execution_count": 90,
   "id": "1a45b80c",
   "metadata": {},
   "outputs": [
    {
     "name": "stdout",
     "output_type": "stream",
     "text": [
      "      구        X         Y\n",
      "0   강서구  37.5603  126.8223\n",
      "1   양천구  37.5267  126.8534\n",
      "2   구로구  37.4968  126.8566\n",
      "3  영등포구  37.5235  126.9084\n",
      "4   금천구  37.4636  126.9005\n"
     ]
    },
    {
     "data": {
      "text/plain": [
       "array([[' 강서구', 37.5603, 126.8223],\n",
       "       ['양천구', 37.5267, 126.8534]], dtype=object)"
      ]
     },
     "execution_count": 90,
     "metadata": {},
     "output_type": "execute_result"
    }
   ],
   "source": [
    "# StandardScaler를 이용해서 서울시 구의 중심의 GPS 값을 정규화 시킨다. \n",
    "from sklearn.preprocessing import StandardScaler\n",
    "import pandas as pd\n",
    "import numpy as np\n",
    "\n",
    "df = pd.read_csv(\"GPS_of_Seoul_Cities.csv\")\n",
    "sc = StandardScaler()\n",
    "print(df.head())"
   ]
  },
  {
   "cell_type": "code",
   "execution_count": 91,
   "id": "10784ac3",
   "metadata": {
    "scrolled": true
   },
   "outputs": [
    {
     "name": "stdout",
     "output_type": "stream",
     "text": [
      "평균 :  [ 37.554812 126.988204]\n",
      "표준편차 :  [0.0031548  0.00720859]\n"
     ]
    }
   ],
   "source": [
    "# gps의 X값과 Y값을 각각 저장\n",
    "gps_X = df.iloc[:,1].values\n",
    "gps_Y = df.iloc[:,2].values\n",
    "gps_XY = []\n",
    "for i in range(len(gps_X)):\n",
    "    tu = (gps_X[i], gps_Y[i])\n",
    "    gps_XY.append(tu)\n",
    "\n",
    "sc.fit(gps_XY)\n",
    "gps_XY_std = sc.transform(gps_XY)\n",
    "gps_mean = sc.mean_\n",
    "gps_var = sc.var_\n",
    "print(\"평균 : \", gps_mean)\n",
    "print(\"표준편차 : \", gps_var)\n"
   ]
  },
  {
   "cell_type": "code",
   "execution_count": 92,
   "id": "0efe5390",
   "metadata": {},
   "outputs": [],
   "source": [
    "# 코사인 유사도를 통한 산책로 유사도 측정\n",
    "from sklearn.metrics.pairwise import cosine_similarity\n",
    "\"\"\"\n",
    "walking_Path : DB에 저장된 모든 산책로의 GPS 리스트 -> 한 줄 마다 각각의 산책로의 GPS가 있다고 가정\n",
    "user_Path : 사용자가 등록하고자 하는 신규 산책로의 GPS 리스트\n",
    "\"\"\" \n",
    "walking_Path = pd.read_csv(\"walking_Path.csv\")\n",
    "user_Path = pd.read_csv(\"user_Path.csv\")\n"
   ]
  },
  {
   "cell_type": "code",
   "execution_count": 93,
   "id": "34cafcc8",
   "metadata": {},
   "outputs": [],
   "source": [
    "walk = walking_Path.iloc[0]\n",
    "walk = walk.dropna()\n",
    "walk_list = walk.values\n",
    "walk_list = walk_list.reshape(-1, 2)"
   ]
  },
  {
   "cell_type": "code",
   "execution_count": 116,
   "id": "28ae6576",
   "metadata": {},
   "outputs": [
    {
     "name": "stdout",
     "output_type": "stream",
     "text": [
      "0.9754459505185422\n",
      "[[0.98261592 0.9933864  0.97219667]\n",
      " [0.91182302 0.9926537  1.        ]]\n",
      "등록 불가\n"
     ]
    }
   ],
   "source": [
    "\"\"\"\n",
    "알고리즘 \n",
    "1. walking_Path와 user_Path 정규화\n",
    "2. walking_Path에서 산책로 하나를 꺼내서 user_Path와 코사인 유사도 계산\n",
    "3. threshold보다 유사도가 높으면 등록 불가\n",
    "\"\"\"\n",
    "# user_Path 정규화\n",
    "user = user_Path.iloc[0]\n",
    "user = user.dropna()\n",
    "user_list = user.values\n",
    "user_list = user_list.reshape(-1,2)\n",
    "user_std = sc.transform(user_list)\n",
    "\n",
    "# walking_Path 정규화\n",
    "X, Y = walking_Path.shape\n",
    "for i in range(X):\n",
    "    walking = walking_Path.iloc[i]\n",
    "    walking = walking.dropna()\n",
    "    walking_list = walking.values\n",
    "    walking_list = walking_list.reshape(-1,2)\n",
    "    walking_std = sc.transform(walking_list)\n",
    "    \n",
    "    # 유사도 벡터와 점수\n",
    "    similarity_vector = cosine_similarity(walking_std, user_std)\n",
    "    similarity_score = similarity_vector.mean()\n",
    "    print(similarity_score)\n",
    "    print(cosine_similarity(walking_std, user_std))\n",
    "    \n",
    "    # threshold -> 0.975 (나중에 바뀔수도..??)\n",
    "    threshold = 0.975\n",
    "    \n",
    "    # 유사도가 높으면 반복문 멈추고 등록 불가\n",
    "    if np.any(np.isclose(similarity_vector,1.0)) and similarity_score > threshold :\n",
    "        print(\"등록 불가\")\n",
    "        break\n",
    "    else :\n",
    "        continue\n",
    "\n"
   ]
  },
  {
   "cell_type": "code",
   "execution_count": 98,
   "id": "95e8d7c9",
   "metadata": {},
   "outputs": [
    {
     "data": {
      "text/plain": [
       "(4, 26)"
      ]
     },
     "execution_count": 98,
     "metadata": {},
     "output_type": "execute_result"
    }
   ],
   "source": [
    "walking_Path.shape"
   ]
  },
  {
   "cell_type": "code",
   "execution_count": 112,
   "id": "ac8ee961",
   "metadata": {},
   "outputs": [
    {
     "data": {
      "text/plain": [
       "False"
      ]
     },
     "execution_count": 112,
     "metadata": {},
     "output_type": "execute_result"
    }
   ],
   "source": []
  },
  {
   "cell_type": "code",
   "execution_count": null,
   "id": "401b03f7",
   "metadata": {},
   "outputs": [],
   "source": []
  }
 ],
 "metadata": {
  "kernelspec": {
   "display_name": "Python 3 (ipykernel)",
   "language": "python",
   "name": "python3"
  },
  "language_info": {
   "codemirror_mode": {
    "name": "ipython",
    "version": 3
   },
   "file_extension": ".py",
   "mimetype": "text/x-python",
   "name": "python",
   "nbconvert_exporter": "python",
   "pygments_lexer": "ipython3",
   "version": "3.10.9"
  }
 },
 "nbformat": 4,
 "nbformat_minor": 5
}
